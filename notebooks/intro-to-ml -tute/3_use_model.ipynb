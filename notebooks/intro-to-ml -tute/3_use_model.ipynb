{
 "cells": [
  {
   "cell_type": "markdown",
   "metadata": {},
   "source": [
    "# Load the dataset"
   ]
  },
  {
   "cell_type": "code",
   "execution_count": null,
   "metadata": {},
   "outputs": [],
   "source": [
    "import pandas\n",
    "\n",
    "# Load a file containing dog's boot and harness sizes\n",
    "data = pandas.read_csv('doggy-boot-harness.csv')\n",
    "\n",
    "# Print the first few rows\n",
    "data.head()"
   ]
  },
  {
   "cell_type": "markdown",
   "metadata": {},
   "source": [
    "# Create and train a model"
   ]
  },
  {
   "cell_type": "code",
   "execution_count": null,
   "metadata": {},
   "outputs": [],
   "source": [
    "import statsmodels.formula.api as smf\n",
    "\n",
    "# Fit a simple model that finds a linear relationship\n",
    "# between boot size and harness size, which we can use later\n",
    "# to predict a dog's boot size, given their harness size\n",
    "model = smf.ols(formula = \"boot_size ~ harness_size\", data = data).fit()\n",
    "\n",
    "print(\"Model trained!\")"
   ]
  },
  {
   "cell_type": "markdown",
   "metadata": {},
   "source": [
    "# Save and load a model"
   ]
  },
  {
   "cell_type": "markdown",
   "metadata": {},
   "source": [
    "## Save"
   ]
  },
  {
   "cell_type": "code",
   "execution_count": null,
   "metadata": {},
   "outputs": [],
   "source": [
    "import joblib\n",
    "\n",
    "# Save the model to a file\n",
    "model_filename = './avalanche_dog_boot_model.pkl'\n",
    "joblib.dump(model, model_filename)\n",
    "\n",
    "print(\"Model saved!\")"
   ]
  },
  {
   "cell_type": "markdown",
   "metadata": {},
   "source": [
    "## Load"
   ]
  },
  {
   "cell_type": "code",
   "execution_count": null,
   "metadata": {},
   "outputs": [],
   "source": [
    "# Load the model from a file\n",
    "model_loaded = joblib.load(model_filename)\n",
    "\n",
    "print(\"We have loaded a model with the following parameters:\")\n",
    "print(model_loaded.params)"
   ]
  },
  {
   "cell_type": "markdown",
   "metadata": {},
   "source": [
    "# Put it together\n",
    "We want to take the harness of our customer's dog, then calculate their dog's boot size using the model that we've already trained.\n",
    "\n",
    "Let's put everything here together to make a function that loads the model from disk, then uses it to predict our customer's dog's boot size.\n"
   ]
  },
  {
   "cell_type": "code",
   "execution_count": 80,
   "metadata": {},
   "outputs": [
    {
     "name": "stdout",
     "output_type": "stream",
     "text": [
      "We've loaded a model with the following parameters:\n",
      "Intercept       5.719110\n",
      "harness_size    0.585925\n",
      "dtype: float64\n",
      "Predicted dog boot size: 32.08575356590479\n"
     ]
    }
   ],
   "source": [
    "# Let's write a function that loads and uses our model\n",
    "def load_model_and_predict(harness_size):\n",
    "    '''\n",
    "    This function loads a pretrained model. It uses the model\n",
    "    with the customer's dog's harness size to predict the size of\n",
    "    boots that will fit that dog.\n",
    "\n",
    "    harness_size: The dog harness size, in cm \n",
    "    '''\n",
    "\n",
    "    # Load the model from file and print basic information about it\n",
    "    loaded_model = joblib.load(model_filename)\n",
    "\n",
    "    print(\"We've loaded a model with the following parameters:\")\n",
    "    print(loaded_model.params)\n",
    "\n",
    "    # Prepare data for the model\n",
    "    inputs = {\"harness_size\":[harness_size]} \n",
    "\n",
    "    # Use the model to make a prediction\n",
    "    predicted_boot_size = loaded_model.predict(inputs)[0]\n",
    "\n",
    "    return predicted_boot_size\n",
    "\n",
    "# Practice using our model\n",
    "predicted_boot_size = load_model_and_predict(45)\n",
    "\n",
    "print(\"Predicted dog boot size:\", predicted_boot_size)"
   ]
  },
  {
   "cell_type": "markdown",
   "metadata": {},
   "source": [
    "# Real world use\n",
    "\n",
    "As an example, we make a function that accepts the harness size, the size of the boots selected, and returns a message for the customer. We would integrate this function into our online store."
   ]
  },
  {
   "cell_type": "code",
   "execution_count": 94,
   "metadata": {},
   "outputs": [
    {
     "name": "stdout",
     "output_type": "stream",
     "text": [
      "We've loaded a model with the following parameters:\n",
      "Intercept       5.719110\n",
      "harness_size    0.585925\n",
      "dtype: float64\n"
     ]
    },
    {
     "data": {
      "text/plain": [
       "'Great choice! We think size 35 boots will fit your avalanche dog well (based on a harness size of 50).'"
      ]
     },
     "execution_count": 94,
     "metadata": {},
     "output_type": "execute_result"
    }
   ],
   "source": [
    "def check_size_of_boots(selected_harness_size, selected_boot_size):\n",
    "    '''\n",
    "    Calculates whether the customer has chosen a pair of doggy boots that \n",
    "    are a sensible size. This works by estimating the dog's actual boot \n",
    "    size from their harness size.\n",
    "\n",
    "    This returns a message for the customer that should be shown before\n",
    "    they complete their payment \n",
    "\n",
    "    selected_harness_size: The size of the harness the customer wants to buy\n",
    "    selected_boot_size: The size of the doggy boots the customer wants to buy\n",
    "    '''\n",
    "\n",
    "    selected_harness_size = input(\"Please select the dog's harness size: \")\n",
    "    selected_boot_size = input(\"Please select the  boot size: \")\n",
    "\n",
    "    # Convert the input strings to integers\n",
    "    try:\n",
    "        selected_harness_size = int(selected_harness_size)\n",
    "        selected_boot_size = int(selected_boot_size)\n",
    "    except ValueError:\n",
    "        print(\"Invalid input: please enter numeric values.\")\n",
    "        return  selected_harness_size, selected_boot_size# Exit the function if the conversion fails\n",
    "    \n",
    "    # Estimate the customer's dog's boot size\n",
    "    estimated_boot_size = load_model_and_predict(selected_harness_size)\n",
    "\n",
    "    # Round to the nearest whole number because we don't sell partial sizes\n",
    "    estimated_boot_size = int(round(estimated_boot_size))\n",
    "\n",
    "    # Check if the boot size selected is appropriate\n",
    "    if selected_boot_size == estimated_boot_size:\n",
    "        # The selected boots are probably OK\n",
    "        return f\"Great choice! We think size {selected_boot_size} boots will fit your avalanche dog well (based on a harness size of {selected_harness_size}).\"\n",
    "\n",
    "    if selected_boot_size < estimated_boot_size:\n",
    "        # Selected boots might be too small \n",
    "        return f\"Size {selected_boot_size} boots might be TOO SMALL for a dog that \"\\\n",
    "               f\"wears a size {selected_harness_size} harness. yours. We recommend a doggy boots size of {estimated_boot_size}.\"\n",
    "\n",
    "    if selected_boot_size > estimated_boot_size:\n",
    "        # Selected boots might be too big \n",
    "        return f\"Size {selected_boot_size} boots might be TOO BIG for a dog that \"\\\n",
    "               f\"wears a size {selected_harness_size} harness. We recommend a doggy boots size of {estimated_boot_size}.\"\n",
    "    \n",
    "\n",
    "# Practice using our new warning system\n",
    "check_size_of_boots(selected_harness_size=55, selected_boot_size=38)"
   ]
  }
 ],
 "metadata": {
  "kernelspec": {
   "display_name": "venv",
   "language": "python",
   "name": "venv"
  },
  "language_info": {
   "codemirror_mode": {
    "name": "ipython",
    "version": 3
   },
   "file_extension": ".py",
   "mimetype": "text/x-python",
   "name": "python",
   "nbconvert_exporter": "python",
   "pygments_lexer": "ipython3",
   "version": "3.11.6"
  }
 },
 "nbformat": 4,
 "nbformat_minor": 2
}
